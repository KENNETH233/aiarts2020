{
 "cells": [
  {
   "cell_type": "code",
   "execution_count": 65,
   "metadata": {},
   "outputs": [],
   "source": [
    "import os\n",
    "os.environ[\"KERAS_BACKEND\"] = \"plaidml.keras.backend\"\n",
    "import keras\n",
    "from keras.datasets import fashion_mnist\n",
    "from keras.models import Sequential, load_model\n",
    "from keras.layers import Dense, Dropout, Flatten\n",
    "from keras.optimizers import RMSprop\n",
    "from keras.datasets import fashion_mnist\n",
    "\n",
    "import matplotlib.pyplot as plt\n",
    "import numpy as np"
   ]
  },
  {
   "cell_type": "code",
   "execution_count": 76,
   "metadata": {},
   "outputs": [],
   "source": [
    "(train_images,train_labels),(test_images,test_labels) = fashion_mnist.load_data()\n",
    "train_images.shape, test_images.shape\n",
    "train_images = train_images/255.0\n",
    "test_images = test_images/255.0\n",
    "class_names = [ 'T-shirt/top', 'Trouser','Pullover','Dress','Coat',\n",
    "               'Sandal','Shirt','Sneaker','Bag','Ankle boot' ]"
   ]
  },
  {
   "cell_type": "code",
   "execution_count": 77,
   "metadata": {},
   "outputs": [],
   "source": [
    "awsome_model = load_model(\"week05_first_model.h5\")"
   ]
  },
  {
   "cell_type": "code",
   "execution_count": 84,
   "metadata": {},
   "outputs": [],
   "source": [
    "test_image_index = np.random.randint(0,10000)\n",
    "test_sample = test_images[test_image_index]\n",
    "guess = awsome_model.predict(np.expand_dims(test_images[0],axis=0))\n",
    "label_index = np.argmax(guess)\n",
    "label = class_names[label_index]"
   ]
  },
  {
   "cell_type": "code",
   "execution_count": 86,
   "metadata": {},
   "outputs": [
    {
     "data": {
      "text/plain": [
       "'Ankle boot'"
      ]
     },
     "execution_count": 86,
     "metadata": {},
     "output_type": "execute_result"
    },
    {
     "data": {
      "image/png": "[encoded data removed]",
      "text/plain": [
       "<Figure size 432x288 with 1 Axes>"
      ]
     },
     "metadata": {
      "needs_background": "light"
     },
     "output_type": "display_data"
    }
   ],
   "source": [
    "plt.imshow(test_sample)\n",
    "label"
   ]
  },
  {
   "cell_type": "code",
   "execution_count": null,
   "metadata": {},
   "outputs": [],
   "source": []
  },
  {
   "cell_type": "code",
   "execution_count": 74,
   "metadata": {},
   "outputs": [
    {
     "data": {
      "text/plain": [
       "'Ankle boot'"
      ]
     },
     "execution_count": 74,
     "metadata": {},
     "output_type": "execute_result"
    }
   ],
   "source": []
  },
  {
   "cell_type": "code",
   "execution_count": 71,
   "metadata": {},
   "outputs": [],
   "source": []
  },
  {
   "cell_type": "code",
   "execution_count": 73,
   "metadata": {},
   "outputs": [],
   "source": []
  },
  {
   "cell_type": "code",
   "execution_count": 33,
   "metadata": {},
   "outputs": [],
   "source": []
  },
  {
   "cell_type": "code",
   "execution_count": 35,
   "metadata": {},
   "outputs": [
    {
     "data": {
      "text/plain": [
       "array([[  0,   0,   0,   0,   0,   0,   0,   0,   0,   0,   0,   0,   0,\n",
       "          0,   0,   0,   0,   0,   0,   0,   0,   0,   0,   0,   0,   0,\n",
       "          0,   0],\n",
       "       [  0,   0,   0,   0,   0,   0,   0,   0,   0,   0,   0,   0,   0,\n",
       "          0,   0,   0,   0,   0,   0,   0,   0,   0,   0,   0,   0,   0,\n",
       "          0,   0],\n",
       "       [  0,   0,   0,   0,   0,   0,   0,   0,   0,   0,   0,   0,   0,\n",
       "          0,   0,   0,   0,   0,   0,   0,   0,   0,   0,   0,   0,   0,\n",
       "          0,   0],\n",
       "       [  0,   0,   0,   0,   0,   0,   0,   0,   0,   0,   0,   0,   1,\n",
       "          0,   0,  13,  73,   0,   0,   1,   4,   0,   0,   0,   0,   1,\n",
       "          1,   0],\n",
       "       [  0,   0,   0,   0,   0,   0,   0,   0,   0,   0,   0,   0,   3,\n",
       "          0,  36, 136, 127,  62,  54,   0,   0,   0,   1,   3,   4,   0,\n",
       "          0,   3],\n",
       "       [  0,   0,   0,   0,   0,   0,   0,   0,   0,   0,   0,   0,   6,\n",
       "          0, 102, 204, 176, 134, 144, 123,  23,   0,   0,   0,   0,  12,\n",
       "         10,   0],\n",
       "       [  0,   0,   0,   0,   0,   0,   0,   0,   0,   0,   0,   0,   0,\n",
       "          0, 155, 236, 207, 178, 107, 156, 161, 109,  64,  23,  77, 130,\n",
       "         72,  15],\n",
       "       [  0,   0,   0,   0,   0,   0,   0,   0,   0,   0,   0,   1,   0,\n",
       "         69, 207, 223, 218, 216, 216, 163, 127, 121, 122, 146, 141,  88,\n",
       "        172,  66],\n",
       "       [  0,   0,   0,   0,   0,   0,   0,   0,   0,   1,   1,   1,   0,\n",
       "        200, 232, 232, 233, 229, 223, 223, 215, 213, 164, 127, 123, 196,\n",
       "        229,   0],\n",
       "       [  0,   0,   0,   0,   0,   0,   0,   0,   0,   0,   0,   0,   0,\n",
       "        183, 225, 216, 223, 228, 235, 227, 224, 222, 224, 221, 223, 245,\n",
       "        173,   0],\n",
       "       [  0,   0,   0,   0,   0,   0,   0,   0,   0,   0,   0,   0,   0,\n",
       "        193, 228, 218, 213, 198, 180, 212, 210, 211, 213, 223, 220, 243,\n",
       "        202,   0],\n",
       "       [  0,   0,   0,   0,   0,   0,   0,   0,   0,   1,   3,   0,  12,\n",
       "        219, 220, 212, 218, 192, 169, 227, 208, 218, 224, 212, 226, 197,\n",
       "        209,  52],\n",
       "       [  0,   0,   0,   0,   0,   0,   0,   0,   0,   0,   6,   0,  99,\n",
       "        244, 222, 220, 218, 203, 198, 221, 215, 213, 222, 220, 245, 119,\n",
       "        167,  56],\n",
       "       [  0,   0,   0,   0,   0,   0,   0,   0,   0,   4,   0,   0,  55,\n",
       "        236, 228, 230, 228, 240, 232, 213, 218, 223, 234, 217, 217, 209,\n",
       "         92,   0],\n",
       "       [  0,   0,   1,   4,   6,   7,   2,   0,   0,   0,   0,   0, 237,\n",
       "        226, 217, 223, 222, 219, 222, 221, 216, 223, 229, 215, 218, 255,\n",
       "         77,   0],\n",
       "       [  0,   3,   0,   0,   0,   0,   0,   0,   0,  62, 145, 204, 228,\n",
       "        207, 213, 221, 218, 208, 211, 218, 224, 223, 219, 215, 224, 244,\n",
       "        159,   0],\n",
       "       [  0,   0,   0,   0,  18,  44,  82, 107, 189, 228, 220, 222, 217,\n",
       "        226, 200, 205, 211, 230, 224, 234, 176, 188, 250, 248, 233, 238,\n",
       "        215,   0],\n",
       "       [  0,  57, 187, 208, 224, 221, 224, 208, 204, 214, 208, 209, 200,\n",
       "        159, 245, 193, 206, 223, 255, 255, 221, 234, 221, 211, 220, 232,\n",
       "        246,   0],\n",
       "       [  3, 202, 228, 224, 221, 211, 211, 214, 205, 205, 205, 220, 240,\n",
       "         80, 150, 255, 229, 221, 188, 154, 191, 210, 204, 209, 222, 228,\n",
       "        225,   0],\n",
       "       [ 98, 233, 198, 210, 222, 229, 229, 234, 249, 220, 194, 215, 217,\n",
       "        241,  65,  73, 106, 117, 168, 219, 221, 215, 217, 223, 223, 224,\n",
       "        229,  29],\n",
       "       [ 75, 204, 212, 204, 193, 205, 211, 225, 216, 185, 197, 206, 198,\n",
       "        213, 240, 195, 227, 245, 239, 223, 218, 212, 209, 222, 220, 221,\n",
       "        230,  67],\n",
       "       [ 48, 203, 183, 194, 213, 197, 185, 190, 194, 192, 202, 214, 219,\n",
       "        221, 220, 236, 225, 216, 199, 206, 186, 181, 177, 172, 181, 205,\n",
       "        206, 115],\n",
       "       [  0, 122, 219, 193, 179, 171, 183, 196, 204, 210, 213, 207, 211,\n",
       "        210, 200, 196, 194, 191, 195, 191, 198, 192, 176, 156, 167, 177,\n",
       "        210,  92],\n",
       "       [  0,   0,  74, 189, 212, 191, 175, 172, 175, 181, 185, 188, 189,\n",
       "        188, 193, 198, 204, 209, 210, 210, 211, 188, 188, 194, 192, 216,\n",
       "        170,   0],\n",
       "       [  2,   0,   0,   0,  66, 200, 222, 237, 239, 242, 246, 243, 244,\n",
       "        221, 220, 193, 191, 179, 182, 182, 181, 176, 166, 168,  99,  58,\n",
       "          0,   0],\n",
       "       [  0,   0,   0,   0,   0,   0,   0,  40,  61,  44,  72,  41,  35,\n",
       "          0,   0,   0,   0,   0,   0,   0,   0,   0,   0,   0,   0,   0,\n",
       "          0,   0],\n",
       "       [  0,   0,   0,   0,   0,   0,   0,   0,   0,   0,   0,   0,   0,\n",
       "          0,   0,   0,   0,   0,   0,   0,   0,   0,   0,   0,   0,   0,\n",
       "          0,   0],\n",
       "       [  0,   0,   0,   0,   0,   0,   0,   0,   0,   0,   0,   0,   0,\n",
       "          0,   0,   0,   0,   0,   0,   0,   0,   0,   0,   0,   0,   0,\n",
       "          0,   0]], dtype=uint8)"
      ]
     },
     "execution_count": 35,
     "metadata": {},
     "output_type": "execute_result"
    }
   ],
   "source": []
  },
  {
   "cell_type": "code",
   "execution_count": null,
   "metadata": {},
   "outputs": [],
   "source": []
  },
  {
   "cell_type": "code",
   "execution_count": 36,
   "metadata": {},
   "outputs": [],
   "source": []
  },
  {
   "cell_type": "code",
   "execution_count": 38,
   "metadata": {},
   "outputs": [
    {
     "data": {
      "text/plain": [
       "array([[0.        , 0.        , 0.        , 0.        , 0.        ,\n",
       "        0.        , 0.        , 0.        , 0.        , 0.17254902,\n",
       "        0.28627451, 0.84313725, 0.67058824, 0.49019608, 0.62352941,\n",
       "        0.6627451 , 0.85490196, 0.86666667, 0.41960784, 0.25490196,\n",
       "        0.00392157, 0.        , 0.        , 0.        , 0.        ,\n",
       "        0.        , 0.        , 0.        ],\n",
       "       [0.        , 0.        , 0.        , 0.        , 0.        ,\n",
       "        0.        , 0.        , 0.00784314, 0.55686275, 0.82352941,\n",
       "        0.71764706, 0.71372549, 0.97254902, 0.65490196, 0.61176471,\n",
       "        0.8745098 , 0.99607843, 0.63921569, 0.71372549, 0.81568627,\n",
       "        0.60784314, 0.31764706, 0.        , 0.        , 0.        ,\n",
       "        0.        , 0.        , 0.        ],\n",
       "       [0.        , 0.        , 0.        , 0.        , 0.        ,\n",
       "        0.        , 0.        , 0.69803922, 0.69803922, 0.53333333,\n",
       "        0.54509804, 0.5372549 , 0.63921569, 0.65490196, 0.60784314,\n",
       "        0.6       , 0.59607843, 0.6       , 0.6627451 , 0.56470588,\n",
       "        0.72941176, 0.72156863, 0.        , 0.        , 0.        ,\n",
       "        0.        , 0.        , 0.        ],\n",
       "       [0.        , 0.        , 0.        , 0.        , 0.        ,\n",
       "        0.        , 0.10588235, 0.63921569, 0.63137255, 0.75686275,\n",
       "        0.69411765, 0.68627451, 0.4627451 , 0.53333333, 0.56862745,\n",
       "        0.49411765, 0.60392157, 0.63137255, 0.62352941, 0.73333333,\n",
       "        0.61568627, 0.65882353, 0.32156863, 0.        , 0.        ,\n",
       "        0.        , 0.        , 0.        ],\n",
       "       [0.        , 0.        , 0.        , 0.        , 0.        ,\n",
       "        0.        , 0.4745098 , 0.6       , 0.5372549 , 0.50980392,\n",
       "        0.61960784, 0.60392157, 0.72156863, 0.70980392, 0.7372549 ,\n",
       "        0.68627451, 0.73333333, 0.49803922, 0.61176471, 0.5372549 ,\n",
       "        0.54509804, 0.57647059, 0.55686275, 0.        , 0.        ,\n",
       "        0.        , 0.        , 0.        ],\n",
       "       [0.        , 0.        , 0.        , 0.        , 0.        ,\n",
       "        0.        , 0.54117647, 0.69411765, 0.6745098 , 0.74117647,\n",
       "        0.34509804, 0.51372549, 0.42745098, 0.50588235, 0.41568627,\n",
       "        0.49803922, 0.38039216, 0.54509804, 0.49019608, 0.77254902,\n",
       "        0.87058824, 0.77647059, 0.38431373, 0.        , 0.        ,\n",
       "        0.        , 0.        , 0.        ],\n",
       "       [0.        , 0.        , 0.        , 0.        , 0.        ,\n",
       "        0.        , 0.        , 0.        , 0.42745098, 0.77647059,\n",
       "        0.77254902, 0.89411765, 0.48627451, 0.70196078, 0.40784314,\n",
       "        0.69019608, 0.45098039, 0.90196078, 0.81960784, 0.61568627,\n",
       "        0.21568627, 0.        , 0.        , 0.        , 0.        ,\n",
       "        0.        , 0.        , 0.        ],\n",
       "       [0.        , 0.        , 0.        , 0.        , 0.        ,\n",
       "        0.        , 0.        , 0.        , 0.        , 0.19215686,\n",
       "        0.8627451 , 0.8       , 0.89411765, 0.89019608, 0.89803922,\n",
       "        0.88627451, 0.91372549, 0.79607843, 0.86666667, 0.2745098 ,\n",
       "        0.        , 0.        , 0.00392157, 0.        , 0.        ,\n",
       "        0.        , 0.        , 0.        ],\n",
       "       [0.        , 0.        , 0.        , 0.        , 0.        ,\n",
       "        0.        , 0.        , 0.01568627, 0.        , 0.28627451,\n",
       "        0.83137255, 0.76470588, 0.77254902, 0.76862745, 0.76862745,\n",
       "        0.75294118, 0.75686275, 0.76862745, 0.83529412, 0.40784314,\n",
       "        0.        , 0.01176471, 0.00392157, 0.        , 0.        ,\n",
       "        0.        , 0.        , 0.        ],\n",
       "       [0.        , 0.        , 0.        , 0.        , 0.        ,\n",
       "        0.        , 0.        , 0.01176471, 0.        , 0.27058824,\n",
       "        0.85882353, 0.8       , 0.82745098, 0.82745098, 0.81960784,\n",
       "        0.81568627, 0.81960784, 0.80784314, 0.8745098 , 0.45882353,\n",
       "        0.        , 0.01176471, 0.        , 0.        , 0.        ,\n",
       "        0.        , 0.        , 0.        ],\n",
       "       [0.        , 0.        , 0.        , 0.        , 0.        ,\n",
       "        0.        , 0.        , 0.01176471, 0.        , 0.2627451 ,\n",
       "        0.83137255, 0.78039216, 0.8       , 0.81176471, 0.81176471,\n",
       "        0.81176471, 0.81568627, 0.79607843, 0.83921569, 0.42352941,\n",
       "        0.        , 0.01176471, 0.        , 0.        , 0.        ,\n",
       "        0.        , 0.        , 0.        ],\n",
       "       [0.        , 0.        , 0.        , 0.        , 0.        ,\n",
       "        0.        , 0.        , 0.01176471, 0.        , 0.25098039,\n",
       "        0.83137255, 0.77647059, 0.78823529, 0.79607843, 0.78823529,\n",
       "        0.78823529, 0.79215686, 0.77647059, 0.83921569, 0.47058824,\n",
       "        0.        , 0.00392157, 0.        , 0.        , 0.        ,\n",
       "        0.        , 0.        , 0.        ],\n",
       "       [0.        , 0.        , 0.        , 0.        , 0.        ,\n",
       "        0.        , 0.        , 0.01960784, 0.        , 0.24313725,\n",
       "        0.84313725, 0.79607843, 0.82352941, 0.82745098, 0.83921569,\n",
       "        0.83921569, 0.83529412, 0.80392157, 0.85490196, 0.60784314,\n",
       "        0.        , 0.        , 0.        , 0.        , 0.        ,\n",
       "        0.        , 0.        , 0.        ],\n",
       "       [0.        , 0.        , 0.        , 0.        , 0.        ,\n",
       "        0.        , 0.        , 0.01960784, 0.        , 0.2745098 ,\n",
       "        0.82352941, 0.76470588, 0.77647059, 0.78039216, 0.78431373,\n",
       "        0.78823529, 0.78431373, 0.77254902, 0.81568627, 0.6       ,\n",
       "        0.        , 0.        , 0.00392157, 0.        , 0.        ,\n",
       "        0.        , 0.        , 0.        ],\n",
       "       [0.        , 0.        , 0.        , 0.        , 0.        ,\n",
       "        0.        , 0.        , 0.01176471, 0.        , 0.37647059,\n",
       "        0.85098039, 0.78431373, 0.80784314, 0.80392157, 0.80392157,\n",
       "        0.80784314, 0.8       , 0.78039216, 0.82352941, 0.65882353,\n",
       "        0.        , 0.00392157, 0.        , 0.        , 0.        ,\n",
       "        0.        , 0.        , 0.        ],\n",
       "       [0.        , 0.        , 0.        , 0.        , 0.        ,\n",
       "        0.        , 0.        , 0.00392157, 0.        , 0.4627451 ,\n",
       "        0.85882353, 0.79215686, 0.81960784, 0.82352941, 0.83137255,\n",
       "        0.83137255, 0.83529412, 0.8       , 0.83921569, 0.72156863,\n",
       "        0.        , 0.        , 0.        , 0.        , 0.        ,\n",
       "        0.        , 0.        , 0.        ],\n",
       "       [0.        , 0.        , 0.        , 0.        , 0.        ,\n",
       "        0.        , 0.        , 0.00784314, 0.        , 0.4627451 ,\n",
       "        0.84313725, 0.78039216, 0.79215686, 0.78823529, 0.77647059,\n",
       "        0.77647059, 0.78431373, 0.74901961, 0.8       , 0.77254902,\n",
       "        0.        , 0.        , 0.00392157, 0.        , 0.        ,\n",
       "        0.        , 0.        , 0.        ],\n",
       "       [0.        , 0.        , 0.        , 0.        , 0.        ,\n",
       "        0.        , 0.        , 0.        , 0.        , 0.55294118,\n",
       "        0.87058824, 0.81176471, 0.83529412, 0.83529412, 0.83137255,\n",
       "        0.83137255, 0.83529412, 0.81176471, 0.83137255, 0.89019608,\n",
       "        0.        , 0.        , 0.00392157, 0.        , 0.        ,\n",
       "        0.        , 0.        , 0.        ],\n",
       "       [0.        , 0.        , 0.        , 0.        , 0.        ,\n",
       "        0.        , 0.        , 0.        , 0.        , 0.63529412,\n",
       "        0.85882353, 0.80392157, 0.81960784, 0.81568627, 0.81960784,\n",
       "        0.81960784, 0.81568627, 0.80784314, 0.81176471, 0.78823529,\n",
       "        0.        , 0.        , 0.00784314, 0.        , 0.        ,\n",
       "        0.        , 0.        , 0.        ],\n",
       "       [0.        , 0.        , 0.        , 0.        , 0.        ,\n",
       "        0.        , 0.00392157, 0.        , 0.        , 0.68235294,\n",
       "        0.84313725, 0.79607843, 0.80392157, 0.80392157, 0.79607843,\n",
       "        0.79607843, 0.79607843, 0.78823529, 0.80784314, 0.81176471,\n",
       "        0.05490196, 0.        , 0.01176471, 0.        , 0.        ,\n",
       "        0.        , 0.        , 0.        ],\n",
       "       [0.        , 0.        , 0.        , 0.        , 0.        ,\n",
       "        0.        , 0.00392157, 0.        , 0.        , 0.72941176,\n",
       "        0.8627451 , 0.81960784, 0.84705882, 0.85098039, 0.85098039,\n",
       "        0.84705882, 0.85098039, 0.83921569, 0.83137255, 0.85098039,\n",
       "        0.12156863, 0.        , 0.00784314, 0.        , 0.        ,\n",
       "        0.        , 0.        , 0.        ],\n",
       "       [0.        , 0.        , 0.        , 0.        , 0.        ,\n",
       "        0.        , 0.00784314, 0.        , 0.        , 0.78431373,\n",
       "        0.83529412, 0.78431373, 0.80392157, 0.80392157, 0.8       ,\n",
       "        0.8       , 0.8       , 0.79607843, 0.79215686, 0.82745098,\n",
       "        0.15294118, 0.        , 0.00392157, 0.        , 0.        ,\n",
       "        0.        , 0.        , 0.        ],\n",
       "       [0.        , 0.        , 0.        , 0.        , 0.        ,\n",
       "        0.        , 0.01176471, 0.        , 0.        , 0.83921569,\n",
       "        0.83137255, 0.80392157, 0.81176471, 0.81960784, 0.81176471,\n",
       "        0.81568627, 0.82745098, 0.81568627, 0.79607843, 0.83921569,\n",
       "        0.24313725, 0.        , 0.00784314, 0.        , 0.        ,\n",
       "        0.        , 0.        , 0.        ],\n",
       "       [0.        , 0.        , 0.        , 0.        , 0.        ,\n",
       "        0.        , 0.00784314, 0.        , 0.01568627, 0.8       ,\n",
       "        0.83921569, 0.85882353, 0.8627451 , 0.85490196, 0.85490196,\n",
       "        0.85882353, 0.85882353, 0.85098039, 0.81960784, 0.87843137,\n",
       "        0.38039216, 0.        , 0.00784314, 0.        , 0.        ,\n",
       "        0.        , 0.        , 0.        ],\n",
       "       [0.        , 0.        , 0.        , 0.        , 0.        ,\n",
       "        0.        , 0.00784314, 0.        , 0.11764706, 0.81176471,\n",
       "        0.78039216, 0.75294118, 0.75686275, 0.75686275, 0.75294118,\n",
       "        0.75686275, 0.76470588, 0.76078431, 0.76862745, 0.81960784,\n",
       "        0.48627451, 0.        , 0.00784314, 0.        , 0.        ,\n",
       "        0.        , 0.        , 0.        ],\n",
       "       [0.        , 0.        , 0.        , 0.        , 0.        ,\n",
       "        0.        , 0.00784314, 0.        , 0.0745098 , 0.90196078,\n",
       "        0.89803922, 0.89803922, 0.90588235, 0.91372549, 0.91372549,\n",
       "        0.90588235, 0.90196078, 0.89411765, 0.87843137, 0.94509804,\n",
       "        0.58039216, 0.        , 0.01568627, 0.        , 0.        ,\n",
       "        0.        , 0.        , 0.        ],\n",
       "       [0.        , 0.        , 0.        , 0.        , 0.        ,\n",
       "        0.        , 0.00392157, 0.        , 0.        , 0.8745098 ,\n",
       "        0.96470588, 0.95294118, 1.        , 1.        , 1.        ,\n",
       "        1.        , 1.        , 0.96078431, 0.94509804, 0.98039216,\n",
       "        0.20784314, 0.        , 0.00784314, 0.        , 0.        ,\n",
       "        0.        , 0.        , 0.        ],\n",
       "       [0.        , 0.        , 0.        , 0.        , 0.        ,\n",
       "        0.        , 0.        , 0.        , 0.        , 0.40392157,\n",
       "        0.49019608, 0.54901961, 0.57254902, 0.57647059, 0.57647059,\n",
       "        0.57254902, 0.57254902, 0.52941176, 0.50980392, 0.62745098,\n",
       "        0.        , 0.        , 0.00392157, 0.        , 0.        ,\n",
       "        0.        , 0.        , 0.        ]])"
      ]
     },
     "execution_count": 38,
     "metadata": {},
     "output_type": "execute_result"
    },
    {
     "data": {
      "image/png": "[encoded data removed]",
      "text/plain": [
       "<Figure size 432x288 with 1 Axes>"
      ]
     },
     "metadata": {
      "needs_background": "light"
     },
     "output_type": "display_data"
    }
   ],
   "source": []
  },
  {
   "cell_type": "code",
   "execution_count": 52,
   "metadata": {},
   "outputs": [],
   "source": []
  },
  {
   "cell_type": "code",
   "execution_count": 40,
   "metadata": {},
   "outputs": [
    {
     "name": "stderr",
     "output_type": "stream",
     "text": [
      "INFO:plaidml:Opening device \"metal_amd_radeon_pro_555x.0\"\n"
     ]
    }
   ],
   "source": []
  },
  {
   "cell_type": "code",
   "execution_count": 46,
   "metadata": {},
   "outputs": [],
   "source": []
  },
  {
   "cell_type": "code",
   "execution_count": 47,
   "metadata": {},
   "outputs": [
    {
     "name": "stdout",
     "output_type": "stream",
     "text": [
      "Epoch 1/5\n",
      "60000/60000 [==============================] - 7s 121us/step - loss: 0.5068 - acc: 0.8206\n",
      "Epoch 2/5\n",
      "60000/60000 [==============================] - 6s 107us/step - loss: 0.3812 - acc: 0.8637\n",
      "Epoch 3/5\n",
      "60000/60000 [==============================] - 8s 126us/step - loss: 0.3470 - acc: 0.8763\n",
      "Epoch 4/5\n",
      "60000/60000 [==============================] - 6s 103us/step - loss: 0.3309 - acc: 0.8819\n",
      "Epoch 5/5\n",
      "60000/60000 [==============================] - 9s 145us/step - loss: 0.3188 - acc: 0.8880\n"
     ]
    },
    {
     "data": {
      "text/plain": [
       "<keras.callbacks.History at 0x13512bca0>"
      ]
     },
     "execution_count": 47,
     "metadata": {},
     "output_type": "execute_result"
    }
   ],
   "source": []
  },
  {
   "cell_type": "code",
   "execution_count": 50,
   "metadata": {},
   "outputs": [
    {
     "name": "stdout",
     "output_type": "stream",
     "text": [
      "10000/10000 [==============================] - 1s 89us/step\n"
     ]
    },
    {
     "data": {
      "text/plain": [
       "[0.42323289531469344, 0.8612]"
      ]
     },
     "execution_count": 50,
     "metadata": {},
     "output_type": "execute_result"
    }
   ],
   "source": []
  }
 ],
 "metadata": {
  "kernelspec": {
   "display_name": "Python 3",
   "language": "python",
   "name": "python3"
  },
  "language_info": {
   "codemirror_mode": {
    "name": "ipython",
    "version": 3
   },
   "file_extension": ".py",
   "mimetype": "text/x-python",
   "name": "python",
   "nbconvert_exporter": "python",
   "pygments_lexer": "ipython3",
   "version": "3.8.1"
  }
 },
 "nbformat": 4,
 "nbformat_minor": 4
}
